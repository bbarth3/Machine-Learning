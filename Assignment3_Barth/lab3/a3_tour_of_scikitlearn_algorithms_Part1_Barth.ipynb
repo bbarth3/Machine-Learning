{
 "cells": [
  {
   "cell_type": "markdown",
   "metadata": {
    "id": "zLG_iaKXWLOe"
   },
   "source": [
    "![logos.png](data:image/png;base64,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)"
   ]
  },
  {
   "cell_type": "markdown",
   "metadata": {
    "id": "RTYJYIxCWM4J"
   },
   "source": [
    "# Lab 03: Tour of Scikit-learn Algorithms Part 1\n",
    "## GIS 5092: Applied Machine Learning for GIS and Remote Sensing (Fall 2021)\n",
    "Course Instructor: **Dr. Vasit Sagan** (vasit.sagan@slu.edu)\n",
    "Teaching Assistant: **Sourav Bhadra** (sourav.bhadra@slu.edu)  \n",
    "[Join Slack Workspace for this class](https://join.slack.com/t/gis5092-fall21/shared_invite/zt-u9vpmzat-SB5sYNtaPWk3vW_Qbj8QRQ)"
   ]
  },
  {
   "cell_type": "markdown",
   "metadata": {
    "id": "4_YNcMiEWM6q"
   },
   "source": [
    "## Learning Objectives:\n",
    "\n",
    "* Prepare training and testing dataset for classification\n",
    "* Train classifiers using scikit-learn\n",
    "* Apply a trained classifier to an image"
   ]
  },
  {
   "cell_type": "markdown",
   "metadata": {
    "id": "0AZCD7X3WNAJ"
   },
   "source": [
    "# How to work with this Notebook?\n",
    "Write your answers in places where you see **YOUR ANSWER HERE** within the **#### ... ####** comments. If there is a variable already declared and assigned a value of **None**, then just replace your code with the assigned **None**. If your answer is code, then use the Code cell, if its text, then use the Text cell. Save a copy of this notebook in your Lab Folder by replacing the STUDENT with your SURNAME in CAPS. Then Upload your deliverables (items listed at the end of this document) in Canvas."
   ]
  },
  {
   "cell_type": "markdown",
   "metadata": {
    "id": "kq0oIl8fWXJa"
   },
   "source": [
    "---"
   ]
  },
  {
   "cell_type": "code",
   "execution_count": 1,
   "metadata": {
    "collapsed": false,
    "id": "8yBBOWWmXYn6"
   },
   "outputs": [
    {
     "name": "stdout",
     "output_type": "stream",
     "text": [
      "C:\\Users\\brend_000\\Documents\\ArcGIS\\Projects\\GIS 5092\\Assignment3_Barth\\lab3\n"
     ]
    }
   ],
   "source": [
    "# Make project folder as current working directory\n",
    "import os\n",
    "print(os.getcwd())"
   ]
  },
  {
   "cell_type": "markdown",
   "metadata": {},
   "source": [
    "---"
   ]
  },
  {
   "cell_type": "markdown",
   "metadata": {},
   "source": [
    "# Data processing"
   ]
  },
  {
   "cell_type": "code",
   "execution_count": 4,
   "metadata": {
    "colab": {
     "base_uri": "https://localhost:8080/"
    },
    "collapsed": false,
    "id": "ZFctugP2Y5yF",
    "outputId": "d05a059f-b0c2-4a12-abde-d364ac0c0c66"
   },
   "outputs": [
    {
     "ename": "ModuleNotFoundError",
     "evalue": "No module named 'rasterio'",
     "output_type": "error",
     "traceback": [
      "\u001b[0;31m---------------------------------------------------------------------------\u001b[0m",
      "\u001b[0;31mModuleNotFoundError\u001b[0m                       Traceback (most recent call last)",
      "\u001b[0;32m<ipython-input-4-05a5c69093ea>\u001b[0m in \u001b[0;36m<module>\u001b[0;34m()\u001b[0m\n\u001b[1;32m      3\u001b[0m \u001b[1;32mimport\u001b[0m \u001b[0mpandas\u001b[0m \u001b[1;32mas\u001b[0m \u001b[0mpd\u001b[0m\u001b[1;33m\u001b[0m\u001b[0m\n\u001b[1;32m      4\u001b[0m \u001b[1;32mimport\u001b[0m \u001b[0mmatplotlib\u001b[0m\u001b[1;33m.\u001b[0m\u001b[0mpyplot\u001b[0m \u001b[1;32mas\u001b[0m \u001b[0mplt\u001b[0m\u001b[1;33m\u001b[0m\u001b[0m\n\u001b[0;32m----> 5\u001b[0;31m \u001b[1;32mimport\u001b[0m \u001b[0mrasterio\u001b[0m\u001b[1;33m\u001b[0m\u001b[0m\n\u001b[0m\u001b[1;32m      6\u001b[0m \u001b[1;32mimport\u001b[0m \u001b[0mgeopandas\u001b[0m \u001b[1;32mas\u001b[0m \u001b[0mgpd\u001b[0m\u001b[1;33m\u001b[0m\u001b[0m\n",
      "\u001b[0;31mModuleNotFoundError\u001b[0m: No module named 'rasterio'"
     ]
    }
   ],
   "source": [
    "# Import necessary modules\n",
    "import numpy as np\n",
    "import pandas as pd\n",
    "import matplotlib.pyplot as plt\n",
    "import rasterio\n",
    "import geopandas as gpd"
   ]
  },
  {
   "cell_type": "markdown",
   "metadata": {
    "id": "dQJ8kPayfBHY"
   },
   "source": [
    "**Task 1** Read image in <code>data</code> folder named (<code>'LC08_L2SP_024033_20201016_20201105_02_T1_SR_Composite.tif'</code>)"
   ]
  },
  {
   "cell_type": "code",
   "execution_count": null,
   "metadata": {
    "collapsed": true,
    "id": "p-StQyOoYSwg"
   },
   "outputs": [],
   "source": [
    "### YOUR ANSWER HERE ###\n",
    "\n",
    "src = None\n",
    "\n",
    "########################"
   ]
  },
  {
   "cell_type": "markdown",
   "metadata": {
    "id": "0E1paTn2fNaW"
   },
   "source": [
    "**Task 2** Convert rasterio object to np.array"
   ]
  },
  {
   "cell_type": "code",
   "execution_count": null,
   "metadata": {
    "collapsed": true,
    "id": "1xl80GTrZLwC"
   },
   "outputs": [],
   "source": [
    "### YOUR ANSWER HERE ###\n",
    "\n",
    "img = None\n",
    "\n",
    "########################"
   ]
  },
  {
   "cell_type": "markdown",
   "metadata": {
    "id": "n2OwCQ7Afchi"
   },
   "source": [
    "**Task 3** Print the shape of the img"
   ]
  },
  {
   "cell_type": "code",
   "execution_count": null,
   "metadata": {
    "colab": {
     "base_uri": "https://localhost:8080/"
    },
    "collapsed": true,
    "id": "7aaw5Y8AWMkC",
    "outputId": "af423e6e-069b-46d2-9ebb-bc8010a0bd74"
   },
   "outputs": [],
   "source": [
    "### YOUR ANSWER HERE ###\n",
    "\n",
    "\n",
    "\n",
    "########################"
   ]
  },
  {
   "cell_type": "markdown",
   "metadata": {
    "id": "ose12NgsfnKh"
   },
   "source": [
    "**Task 4** Convert the nodata pixels to np.nan  \n",
    "*Hint:* You may see a ValueError like \"cannot convert float NaN to integer\". It occurs because the np.nan is conisdered a float datatype, while our \"img\" variable is an \"int\" datatype. So convert the \"img\" datatype from \"int\" to \"float\" before converting the nodata pixels to np.nan. You can do that using astype of numpy."
   ]
  },
  {
   "cell_type": "code",
   "execution_count": null,
   "metadata": {
    "collapsed": true,
    "id": "8TYyIckSaHm3"
   },
   "outputs": [],
   "source": [
    "### YOUR ANSWER HERE ###\n",
    "\n",
    "# Convert to float\n",
    "img = None # Hint: use astype('float'). Confused? Google it: How to convert np array datatype from int to float\n",
    "\n",
    "# Convert nodata to np.nan\n",
    "\n",
    "\n",
    "########################"
   ]
  },
  {
   "cell_type": "markdown",
   "metadata": {
    "id": "CZQqX7gfg3-7"
   },
   "source": [
    "**Task 5** Create a function named \"band_stat(band)\" where the arguments are \"band\" and \"band_name\". The \"band\" is simply a 2D array of a single band and the \"band_name\" is just the name of the band as a string. The function has to print the maximum, minimum, and mean value of the band along with its name.  \n",
    "*Hint:* Consider the bands may contain np.nan. So the max, min and mean should  handle the nans."
   ]
  },
  {
   "cell_type": "code",
   "execution_count": null,
   "metadata": {
    "colab": {
     "base_uri": "https://localhost:8080/"
    },
    "collapsed": true,
    "id": "MP1wGxpCaDLl",
    "outputId": "e40756cb-7638-4fcf-c3f9-641f758acf39"
   },
   "outputs": [],
   "source": [
    "def band_stat(band, band_name):\n",
    "\n",
    "    ### YOUR ANSWER HERE ###\n",
    "\n",
    "    # Get max, min, mean\n",
    "    max_val = None\n",
    "    min_val = None\n",
    "    mean_val = None\n",
    "\n",
    "    ########################\n",
    "\n",
    "    print(f\"{band_name}, Max: {max_val:.2f}, Min: {min_val:.2f}, Mean: {mean_val:.2f}\")\n",
    "\n",
    "band_stat(img[0, :, :], 'B1')\n",
    "band_stat(img[1, :, :], 'B2')\n",
    "band_stat(img[2, :, :], 'B3')\n",
    "band_stat(img[3, :, :], 'B4')\n",
    "band_stat(img[4, :, :], 'B5')\n",
    "band_stat(img[5, :, :], 'B6')\n",
    "band_stat(img[6, :, :], 'B7')"
   ]
  },
  {
   "cell_type": "markdown",
   "metadata": {
    "id": "p27ncRMYhcId"
   },
   "source": [
    "**Task 6** Convert all the values of \"img\" ranging from 0 to 1.  \n",
    "*Hint:* Divide the \"img\" variable with some factor. That factor has to be the highest limit of the Landsat 8 OLI precision. To get the highest limit of data range for landsat 8, please search the bit depth of landsat 8 and know the upper limit of that bit depth. Then divide \"img\" with that value.\n",
    "[More information about bit-depth of Landsat 8](https://www.usgs.gov/core-science-systems/nli/landsat/landsat-8?qt-science_support_page_related_con=0#qt-science_support_page_related_con)"
   ]
  },
  {
   "cell_type": "code",
   "execution_count": null,
   "metadata": {
    "collapsed": true,
    "id": "_NVmndUKcwjl"
   },
   "outputs": [],
   "source": [
    "### YOUR ANSWER HERE ###\n",
    "\n",
    "img = None\n",
    "\n",
    "########################"
   ]
  },
  {
   "cell_type": "markdown",
   "metadata": {
    "id": "42cBoYASh3I9"
   },
   "source": [
    "**Task 7** Print the max, min, and mean of each channel now. The result should look something like this. If it does not match, then your factor may be incorrect."
   ]
  },
  {
   "cell_type": "markdown",
   "metadata": {
    "id": "LX57WxogiRYw"
   },
   "source": [
    "| Band | Max  | Min  | Mean |\n",
    "|------|------|------|------|\n",
    "| B1   | 0.78 | 0.00 | 0.13 |\n",
    "| B2   | 0.69 | 0.00 | 0.14 |\n",
    "| B3   | 0.53 | 0.00 | 0.15 |\n",
    "| B4   | 0.56 | 0.00 | 0.16 |\n",
    "| B5   | 0.69 | 0.08 | 0.24 |\n",
    "| B6   | 1.00 | 0.10 | 0.24 |\n",
    "| B7   | 1.00 | 0.10 | 0.19 |"
   ]
  },
  {
   "cell_type": "code",
   "execution_count": null,
   "metadata": {
    "colab": {
     "base_uri": "https://localhost:8080/"
    },
    "collapsed": true,
    "id": "-u1xJa78e519",
    "outputId": "a7d6563c-6c21-499a-840e-daaa57c382be"
   },
   "outputs": [],
   "source": [
    "band_stat(img[0, :, :], 'B1')\n",
    "band_stat(img[1, :, :], 'B2')\n",
    "band_stat(img[2, :, :], 'B3')\n",
    "band_stat(img[3, :, :], 'B4')\n",
    "band_stat(img[4, :, :], 'B5')\n",
    "band_stat(img[5, :, :], 'B6')\n",
    "band_stat(img[6, :, :], 'B7')"
   ]
  },
  {
   "cell_type": "markdown",
   "metadata": {
    "id": "rbQZBnU8iaLe"
   },
   "source": [
    "**Task 7** Plot two false color composites from the <code>img</code> variable. Make <code>false1</code> and <code>false2</code>, where the first one is the combination of NIR, Red, and Green band, whereas the last one is the combination of NIR, SWIR2 (Band 7), and Red channels. Remember to do the following:\n",
    "* Do NOT use any figure size, use the default\n",
    "* DPI should be 150, not more than that\n",
    "* Each subplot should have a title with fontsize 6\n",
    "* Remove the tickmarks from each subplot\n",
    "* Multiply with a factor to intensify the colors of the image\n",
    "\n",
    "Your result should be something similar to this:"
   ]
  },
  {
   "cell_type": "markdown",
   "metadata": {},
   "source": [
    "![img1.PNG](attachment:img1.PNG)"
   ]
  },
  {
   "cell_type": "code",
   "execution_count": null,
   "metadata": {
    "collapsed": true,
    "id": "Ham8krUtk0tr"
   },
   "outputs": [],
   "source": [
    "### YOUR ANSWER HERE ###\n",
    "\n",
    "false1 = None\n",
    "false2 = None\n",
    "\n",
    "\n",
    "\n",
    "plt.show()\n",
    "\n",
    "########################"
   ]
  },
  {
   "cell_type": "markdown",
   "metadata": {},
   "source": [
    "**Task 8** Read the training samples shapefile in <code>data</code> folder named <code>'lulc_labels_small.shp'</code>"
   ]
  },
  {
   "cell_type": "code",
   "execution_count": null,
   "metadata": {
    "collapsed": true,
    "id": "0LkRpeGfZj_O"
   },
   "outputs": [],
   "source": [
    "### YOUR ANSWER HERE ###\n",
    "\n",
    "points = None\n",
    "\n",
    "########################\n",
    "\n",
    "points"
   ]
  },
  {
   "cell_type": "code",
   "execution_count": null,
   "metadata": {
    "collapsed": true
   },
   "outputs": [],
   "source": [
    "# Plotting the point shapefile\n",
    "\n",
    "fig, ax = plt.subplots(1, 1, dpi=150)\n",
    "\n",
    "points.plot(column='Label', ax=ax, legend=True)\n",
    "\n",
    "plt.show()"
   ]
  },
  {
   "cell_type": "markdown",
   "metadata": {},
   "source": [
    "The following function extracts the pixel value(s) from a given point shapefile. Please read through each lines of codes and comments. Try to understand the function so that you can try similar methods for other procedures."
   ]
  },
  {
   "cell_type": "code",
   "execution_count": null,
   "metadata": {
    "collapsed": true
   },
   "outputs": [],
   "source": [
    "def extract_pixel_value_from_point(point_shape, image_src, image_np):\n",
    "    \n",
    "    \"\"\"\n",
    "    Extracts the pixel value(s) from a given point shapefile and\n",
    "    a numpy geospatial image.\n",
    "    \n",
    "    Arguments:\n",
    "        - point_shape: A geopandas dataframe containing the point\n",
    "            feature. It must have a UID specified which indicates\n",
    "            an unique ID.\n",
    "        - image_src: A rasterio source. The reference system of\n",
    "            both shapefile and image has to match with each other.\n",
    "        - image_np: A np.ndarray version of the rasterio image.\n",
    "            The array should be free from nodata values.\n",
    "    \n",
    "    Returns:\n",
    "        - values_df: A pandas dataframe containing the UID and\n",
    "            associated pixel value(s).\n",
    "    \"\"\"\n",
    "    \n",
    "    # Empty dictionary to hold all the pixel values\n",
    "    values_dict = {}\n",
    "    \n",
    "    # Loop through each point feature and populate the dict\n",
    "    for i, point in enumerate(point_shape['geometry']):\n",
    "        \n",
    "        # Get the x and y coordinate\n",
    "        x = point.xy[0][0]\n",
    "        y = point.xy[1][0]\n",
    "        \n",
    "        # Get the associated row col number\n",
    "        # based on the coordinate\n",
    "        row, col = image_src.index(x, y)\n",
    "        values = image_np[:, row, col]\n",
    "        \n",
    "        # Get the UID\n",
    "        uid = point_shape.iloc[i, 0]\n",
    "        \n",
    "        # Populate the dictionary\n",
    "        values_dict[uid] = values\n",
    "        \n",
    "    # Convert the dictionary to a pd dataframe\n",
    "    values_df = pd.DataFrame(values_dict).T\n",
    "    # Reset the index of the df\n",
    "    values_df.reset_index(inplace=True)\n",
    "    # Change the column names\n",
    "    values_df.columns = ['UID', 'B1', 'B2', 'B3', 'B4', 'B5', 'B6', 'B7']\n",
    "    \n",
    "    return values_df\n",
    "\n",
    "# Apply the function\n",
    "reflectance = extract_pixel_value_from_point(points, src, img)\n",
    "reflectance"
   ]
  },
  {
   "cell_type": "markdown",
   "metadata": {},
   "source": [
    "**Important Notes:** If you dont understand some part of the function, then the best thing to go around is to take pices of codes from the function in a seperate cell and examine the variables/proces you dont understand by printing their output. This is a great way to get around codes from other authors."
   ]
  },
  {
   "cell_type": "markdown",
   "metadata": {},
   "source": [
    "Add the label information from the <code>points</code> dataframe to the <code>reflectance</code> dataframe based on the UID. [Check out this website to learn more about joining dataframes](https://pandas.pydata.org/pandas-docs/stable/user_guide/merging.html)"
   ]
  },
  {
   "cell_type": "code",
   "execution_count": null,
   "metadata": {
    "collapsed": true
   },
   "outputs": [],
   "source": [
    "# Joining\n",
    "data = reflectance.join(points, on='UID', rsuffix='_')\n",
    "data"
   ]
  },
  {
   "cell_type": "markdown",
   "metadata": {},
   "source": [
    "**Task 9** Create a bar plot showing the number of samples per label from the <code>data</code> dataframe.  \n",
    "*Hint:* use <code>value_counts</code> from <code>pandas</code> and <code>plt.bar</code> from <code>matplotlib</code>"
   ]
  },
  {
   "cell_type": "code",
   "execution_count": null,
   "metadata": {
    "collapsed": true
   },
   "outputs": [],
   "source": [
    "### YOUR ANSWER HERE ###\n",
    "\n",
    "counts = None\n",
    "\n",
    "\n",
    "plt.show()\n",
    "\n",
    "########################"
   ]
  },
  {
   "cell_type": "markdown",
   "metadata": {},
   "source": [
    "We need to shuffle our data before splitting the dataset into train and test set. Lets shuffle and split."
   ]
  },
  {
   "cell_type": "code",
   "execution_count": null,
   "metadata": {
    "collapsed": true
   },
   "outputs": [],
   "source": [
    "from sklearn.utils import shuffle\n",
    "data = shuffle(data)\n",
    "\n",
    "# We dont need all the columns, lets just keep the ones that we need\n",
    "data = data[['Label', 'B1', 'B2', 'B3', 'B4', 'B5', 'B6', 'B7']]\n",
    "data"
   ]
  },
  {
   "cell_type": "markdown",
   "metadata": {},
   "source": [
    "Now let's encode the texts in <code>Label</code> column into some numeric values. For example, we can convert Water to 1, Wetland to 2, Developed to 3, Forest to 4, and Agriculture to 5."
   ]
  },
  {
   "cell_type": "code",
   "execution_count": null,
   "metadata": {
    "collapsed": true
   },
   "outputs": [],
   "source": [
    "# Create a clumn named 'Label_int' which has only 0 as values\n",
    "data['Label_int'] = 0\n",
    "data"
   ]
  },
  {
   "cell_type": "code",
   "execution_count": null,
   "metadata": {
    "collapsed": true
   },
   "outputs": [],
   "source": [
    "# Perform the following operation\n",
    "for i in range(data.shape[0]):\n",
    "    label_txt = data.iloc[i, 0]\n",
    "    \n",
    "    if label_txt=='Water':\n",
    "        data.iloc[i, -1] = 1\n",
    "    elif label_txt=='Wetland':\n",
    "        data.iloc[i, -1] = 2\n",
    "    elif label_txt=='Developed':\n",
    "        data.iloc[i, -1] = 3\n",
    "    elif label_txt=='Forest':\n",
    "        data.iloc[i, -1] = 4\n",
    "    elif label_txt=='Agriculture':\n",
    "        data.iloc[i, -1] = 5\n",
    "        \n",
    "data"
   ]
  },
  {
   "cell_type": "code",
   "execution_count": null,
   "metadata": {
    "collapsed": true
   },
   "outputs": [],
   "source": [
    "# Create train and test set\n",
    "train_size = int(data.shape[0] * 0.7) # Getting the train size based on 70/30 split ratio\n",
    "\n",
    "X_train = data.iloc[:train_size, 1:-1]\n",
    "y_train = data.iloc[:train_size, -1]\n",
    "X_test = data.iloc[train_size:, 1:-1]\n",
    "y_test = data.iloc[train_size:, -1]"
   ]
  },
  {
   "cell_type": "code",
   "execution_count": null,
   "metadata": {
    "collapsed": true
   },
   "outputs": [],
   "source": [
    "# Now check their shapes\n",
    "print(X_train.shape)\n",
    "print(y_train.shape)\n",
    "print(X_test.shape)\n",
    "print(y_test.shape)"
   ]
  },
  {
   "cell_type": "markdown",
   "metadata": {},
   "source": [
    "So we have a train set, where there are 700 samples and 7 features (independent variables). Also we have corresponding target labels. Then we have a test set where we have 300 samples and also that same 7 features with corresponding target labels. Now let's move on to the modeling part."
   ]
  },
  {
   "cell_type": "markdown",
   "metadata": {},
   "source": [
    "# Model training"
   ]
  },
  {
   "cell_type": "markdown",
   "metadata": {},
   "source": [
    "**Task 10** Train following models with different hyperparameters with the train set (<code>X_train</code> and <code>y_train</code>) and get the overall accuracy of each classifier with the test set (<code>X_test</code> and <code>y_test</code>). Follow along the code cells to proceed with step by step approach. \n",
    "\n",
    "Go to the sklearn links associated below to know about how to import them or work with them.\n",
    "1. [Logistic Regression](https://scikit-learn.org/stable/modules/generated/sklearn.linear_model.LogisticRegression.html)\n",
    "2. [Decision Trees](http://scikit-learn.org/stable/modules/generated/sklearn.tree.DecisionTreeClassifier.html)\n",
    "3. [Random Forest](https://scikit-learn.org/stable/modules/generated/sklearn.ensemble.RandomForestClassifier.html)\n",
    "4. [Support Vector Machine](https://scikit-learn.org/stable/modules/generated/sklearn.svm.SVC.html)\n",
    "\n",
    "* For each classifier, use at least two different hyperparameters. Hyperparameters are specific parameters for different model. Each model assume specific functions/distributions in data which result in very different model. So we need to test different hyperparameter for every model and apply to our data. Now, not all the hyperparameters are always important. We will know throughout the course, which hyperparameter are the most important ones for different models, but for this lab, we will test some specific hyperparameters. In a word document, create a table which may look like this:\n",
    "\n",
    "\n",
    "| Model Name             | Hyperparameter | Hyperparamter values | Accuracy |\n",
    "|------------------------|----------------|----------------------|----------|\n",
    "| Logistic Regression    | penalty        | l2                   | 0.71     |\n",
    "|------------------------|----------------|----------------------|----------|\n",
    "| Decision Trees         | criterion      | gini                 | 0.72     |\n",
    "|                        |                | entropy              | 0.70     |\n",
    "|------------------------|----------------|----------------------|----------|\n",
    "| Random Forests         | n_estimators   | 100                  | 0.78     |\n",
    "|                        |                | 500                  | 0.79     |\n",
    "|                        |                | 1000                 | 0.78     |\n",
    "|------------------------|----------------|----------------------|----------|\n",
    "| Support Vector Machine | kernel         | rbf                  | 0.74     |\n",
    "|                        |                | linear               | 0.71     |"
   ]
  },
  {
   "cell_type": "code",
   "execution_count": null,
   "metadata": {
    "collapsed": true
   },
   "outputs": [],
   "source": [
    "## Import modules\n",
    "\n",
    "# Import the logistic regression classifier from sklearn\n",
    "from sklearn.linear_model import LogisticRegression\n",
    "\n",
    "# Import the decision tree classifier from sklearn\n",
    "from sklearn.tree import DecisionTreeClassifier\n",
    "\n",
    "# Import the random forest classifier from sklearn\n",
    "from sklearn.ensemble import RandomForestClassifier\n",
    "\n",
    "# Import the support vector machine classifier from sklearn\n",
    "from sklearn.svm import SVC"
   ]
  },
  {
   "cell_type": "code",
   "execution_count": null,
   "metadata": {
    "collapsed": true
   },
   "outputs": [],
   "source": [
    "# Conduct the logistic regression for different hyperparameters and\n",
    "# calculate scores for each combination and note the value in the table\n",
    "\n",
    "lrc = None"
   ]
  },
  {
   "cell_type": "code",
   "execution_count": null,
   "metadata": {
    "collapsed": true
   },
   "outputs": [],
   "source": [
    "# Conduct the decision tree for different hyperparameters and\n",
    "# calculate scores for each combination and note the value in the table\n",
    "\n",
    "dtc = None"
   ]
  },
  {
   "cell_type": "code",
   "execution_count": null,
   "metadata": {
    "collapsed": true
   },
   "outputs": [],
   "source": [
    "# Conduct the random forest for different hyperparameters and\n",
    "# calculate scores for each combination and note the value in the table\n",
    "\n",
    "rfc = None"
   ]
  },
  {
   "cell_type": "code",
   "execution_count": null,
   "metadata": {
    "collapsed": true
   },
   "outputs": [],
   "source": [
    "# Conduct the support vector machine for different hyperparameters and\n",
    "# calculate scores for each combination and note the value in the table\n",
    "\n",
    "svc = None"
   ]
  },
  {
   "cell_type": "markdown",
   "metadata": {},
   "source": [
    "# Applying model to image"
   ]
  },
  {
   "cell_type": "markdown",
   "metadata": {},
   "source": [
    "Now we have a model that takes an input of 7 bands from Landsat image and shoots out the predicted class based on the reflectance values. We can now apply that model to an image to get a Land Use land Cover map from it. We will try that using a smaller subset of the image for faster processing. The smaller image name is <code>'LC08_L2SP_024033_20201016_20201105_02_T1_SR_Composite_Small.tif'</code> in the same <code>data</code> folder."
   ]
  },
  {
   "cell_type": "code",
   "execution_count": null,
   "metadata": {
    "collapsed": true
   },
   "outputs": [],
   "source": [
    "# Read the small image as rasterio src\n",
    "src_small = rasterio.open('.\\data\\LC08_L2SP_024033_20201016_20201105_02_T1_SR_Composite_Small.tif')\n",
    "\n",
    "# Convert the image into np array\n",
    "img_small = src_small.read()\n",
    "\n",
    "# Since we had previously converted the image values form 0 to 1, \n",
    "# we need to do the same for this image\n",
    "# Divide the whole image by the same value you used to divide the \n",
    "# original training data\n",
    "img_small = img_small / 65536\n",
    "\n",
    "# Print its shape\n",
    "print(img_small.shape)"
   ]
  },
  {
   "cell_type": "markdown",
   "metadata": {},
   "source": [
    "Now pick the best classifier that yielded the highest accuracy score for the test set. We will now use that model to predict the LULC for the whole image. To do that, we need to be little strategic. Because any **trained model from sklearn expects the data in a form of (<code>n_samples, n_features</code>), and our img data is a 3D format array where the shape is like this: <code>(n_channels, n_rows, n_columns)</code>.** Here the n_channels is the feature. So we need to first **flatten the rows and columsn into a single dimension**."
   ]
  },
  {
   "cell_type": "code",
   "execution_count": null,
   "metadata": {
    "collapsed": true
   },
   "outputs": [],
   "source": [
    "# First we need to move the n_channel dimension to the end\n",
    "# because sklearn expects the data in a way where the n_features\n",
    "# is in the last dimension\n",
    "img_channel_last = np.moveaxis(img_small, 0, 2)\n",
    "\n",
    "# Now check the shape\n",
    "print(img_channel_last.shape)"
   ]
  },
  {
   "cell_type": "code",
   "execution_count": null,
   "metadata": {
    "collapsed": true
   },
   "outputs": [],
   "source": [
    "# See that the n_channels (which is 7) is in the last position\n",
    "\n",
    "# Now reshape the img from 3D to 2d\n",
    "img_reshaped = img_channel_last.reshape(-1, 7)\n",
    "# -1 indicates that combine the rest of dimension altogether. Its equivalent to\n",
    "# img.reshape(7, 7741*7611) but the -1 handles that on its own.\n",
    "# Check its shape\n",
    "print(img_reshaped.shape)"
   ]
  },
  {
   "cell_type": "markdown",
   "metadata": {},
   "source": [
    "So we have now 501*501=251001 samples and 7 features. Now the dataset looks like an array which can be understood by sklearn estimators"
   ]
  },
  {
   "cell_type": "code",
   "execution_count": null,
   "metadata": {
    "collapsed": true
   },
   "outputs": [],
   "source": [
    "# Now let's predict all the values using the predict method\n",
    "# Remember the resulting array would be a 1D array\n",
    "lulc_1d = None\n",
    "\n",
    "# Check it's shape\n",
    "print(lulc_1d.shape)"
   ]
  },
  {
   "cell_type": "code",
   "execution_count": null,
   "metadata": {
    "collapsed": true
   },
   "outputs": [],
   "source": [
    "# We have to convert the 1d predicted lulc values to a 2d array to\n",
    "# get that as an image. Reshape it back to its original shape\n",
    "lulc_2d = lulc_1d.reshape(img_small.shape[1], img_small.shape[2])\n",
    "print(lulc_2d.shape)"
   ]
  },
  {
   "cell_type": "code",
   "execution_count": null,
   "metadata": {
    "collapsed": true
   },
   "outputs": [],
   "source": [
    "# Plot the image\n",
    "plt.figure(dpi=150)\n",
    "plt.imshow(lulc_2d)\n",
    "plt.show()"
   ]
  },
  {
   "cell_type": "markdown",
   "metadata": {},
   "source": [
    "Great! Now save the image as a GeoTIFF file so that we can open that in ArcGIS or ENVI and make a nice map with legends, scale bar, north arrow etc. However, currently the <code>lulc_2d</code> is just a np array. To save it as a geospatial raster data, we need to get help from rasterio. [Please refer here to learn more about how to write raster datasets using rasterio](https://rasterio.readthedocs.io/en/latest/topics/writing.html)."
   ]
  },
  {
   "cell_type": "code",
   "execution_count": null,
   "metadata": {
    "collapsed": true
   },
   "outputs": [],
   "source": [
    "# First get the profile information of the main raster img_small\n",
    "profile = src_small.profile\n",
    "print(profile)"
   ]
  },
  {
   "cell_type": "code",
   "execution_count": null,
   "metadata": {
    "collapsed": true
   },
   "outputs": [],
   "source": [
    "# Its a dictionary with all the necessary geospatial information. For LULC data, the only thing changed here is the 'count'\n",
    "# Because, previously the image had 7 bands, now the LULC has only 1 band. Update that\n",
    "profile.update({'count': 1})\n",
    "\n",
    "print(profile)"
   ]
  },
  {
   "cell_type": "code",
   "execution_count": null,
   "metadata": {
    "collapsed": true
   },
   "outputs": [],
   "source": [
    "# Now save it in the lab3 folder\n",
    "with rasterio.open('.\\data\\LULC1.tif', 'w', **profile) as dst:\n",
    "    dst.write(lulc_2d.astype(rasterio.uint16), 1)"
   ]
  },
  {
   "cell_type": "markdown",
   "metadata": {},
   "source": [
    "# Deliverables from Part 1\n",
    "\n",
    "* The completed notebook named <code>a3_tour_of_scikitlearn_algorithms_Part1_STUDENT.ipynb</code> (change the STUDENT with your surname or SLU net id)\n",
    "* A Microsoft Word Document (.docx) file where you have a table with different models, hyperparameters and test scores (The template of the table is given in **Task 10**)\n",
    "* A JPG map of LULC1.tif created in ArcGIS Desktop or ArcGIS Pro (or any geospatial software of your liking), where you provide map title, legends, north arrow, scale bar etc."
   ]
  },
  {
   "cell_type": "code",
   "execution_count": null,
   "metadata": {
    "collapsed": true
   },
   "outputs": [],
   "source": []
  }
 ],
 "metadata": {
  "colab": {
   "collapsed_sections": [],
   "name": "a3_tour_of_scikitlearn_algorithms_Part2_INSTRUCTOR.ipynb",
   "provenance": []
  },
  "kernelspec": {
   "display_name": "Python 3",
   "language": "python",
   "name": "python3"
  },
  "language_info": {
   "codemirror_mode": {
    "name": "ipython",
    "version": 3
   },
   "file_extension": ".py",
   "mimetype": "text/x-python",
   "name": "python",
   "nbconvert_exporter": "python",
   "pygments_lexer": "ipython3",
   "version": "3.6.0"
  }
 },
 "nbformat": 4,
 "nbformat_minor": 1
}
